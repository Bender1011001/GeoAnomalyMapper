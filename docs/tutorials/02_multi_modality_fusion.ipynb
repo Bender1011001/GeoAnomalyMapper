{
 "cells": [
  {
   "cell_type": "markdown",
   "metadata": {},
   "source": [
    "# 02 Multi-Modality Fusion with GeoAnomalyMapper (GAM)\n",
    "\n",
    "This tutorial builds on [01 Basic Analysis](01_basic_analysis.ipynb) to demonstrate fusing multiple geophysical data types (gravity, magnetic, seismic, InSAR) for more robust anomaly detection. We'll use joint inversion and advanced visualization.\n",
    "\n",
    "**Objectives**:\n",
    "- Combine all four modalities.\n",
    "- Perform joint Bayesian fusion.\n",
    "- Use advanced 3D visualization.\n",
    "- Create custom workflows.\n",
    "\n",
    "**Prerequisites**: Complete 01; ensure `[geophysics,visualization]` installed. Example uses Giza region."
   ]
  },
  {
   "cell_type": "code",
   "execution_count": null,
   "metadata": {},
   "outputs": [],
   "source": [
    "# Imports (same as 01)\n",
    "import yaml\n",
    "import pandas as pd\n",
    "import numpy as np\n",
    "from gam.core.pipeline import run_pipeline\n",
    "from gam.visualization.manager import generate_visualization\n",
    "from gam.modeling.fusion import FusionInverter  # For custom fusion\n",
    "import gam\n",
    "print(f\"GAM version: {gam.__version__}\")"
   ]
  },
  {
   "cell_type": "markdown",
   "metadata": {},
   "source": [
    "## Step 1: Advanced Configuration for Fusion\n",
    "\n",
    "Enable all modalities and tune fusion parameters (joint_weight for balancing)."
   ]
  },
  {
   "cell_type": "code",
   "execution_count": null,
   "metadata": {},
   "outputs": [],
   "source": [
    "# Giza bbox (larger for multi-modal)\n",
    "bbox = (29.9, 30.1, 31.1, 31.3)\n",
    "modalities = [\"gravity\", \"magnetic\", \"seismic\", \"insar\"]  # All four\n",
    "\n",
    "# Fusion-focused config\n",
    "config = {\n",
    "    \"data\": {\n",
    "        \"bbox\": bbox,\n",
    "        \"modalities\": modalities,\n",
    "        \"cache_dir\": \"../data/cache\"\n",
    "    },\n",
    "    \"preprocessing\": {\n",
    "        \"grid_res\": 0.005  # Finer for fusion accuracy\n",
    "    },\n",
    "    \"modeling\": {\n",
    "        \"inversion_type\": \"linear\",  # Base for all\n",
    "        \"threshold\": 2.5,\n",
    "        \"priors\": {\n",
    "            \"joint_weight\": 0.7,  # Higher weight for fusion\n",
    "            \"regularization\": \"l2\"\n",
    "        },\n",
    "        \"max_iterations\": 100\n",
    "    },\n",
    "    \"visualization\": {\n",
    "        \"map_type\": \"3d\",  # Advanced 3D\n",
    "        \"export_formats\": [\"vtk\", \"html\", \"csv\"],\n",
    "        \"color_scheme\": \"plasma\"\n",
    "    },\n",
    "    \"core\": {\n",
    "        \"output_dir\": \"../results/giza_fusion\",\n",
    "        \"parallel_workers\": 4\n",
    "    }\n",
    "}\n",
    "\n",
    "with open(\"giza_fusion_config.yaml\", \"w\") as f:\n",
    "    yaml.dump(config, f)\n",
    "print(\"Fusion config saved.\")"
   ]
  },
  {
   "cell_type": "markdown",
   "metadata": {},
   "source": [
    "## Step 2: Run Multi-Modal Pipeline\n",
    "\n",
    "Fetch and process all modalities, then fuse."
   ]
  },
  {
   "cell_type": "code",
   "execution_count": null,
   "metadata": {},
   "outputs": [],
   "source": [
    "# Run full pipeline with fusion\n",
    "results = run_pipeline(\n",
    "    bbox=bbox,\n",
    "    modalities=modalities,\n",
    "    config=config,\n",
    "    output_dir=config[\"core\"][\"output_dir\"]\n",
    ")\n",
    "\n",
    "anomalies = results['anomalies']\n",
    "fused_model = results['models']['fused']  # xarray.Dataset\n",
    "\n",
    "print(f\"Fusion complete. Anomalies: {len(anomalies)}\")\n",
    "print(\"Sample fused model stats:\")\n",
    "print(fused_model['data'].describe())"
   ]
  },
  {
   "cell_type": "markdown",
   "metadata": {},
   "source": [
    "## Step 3: Joint Inversion Details\n",
    "\n",
    "Inspect fusion contributions. Custom fusion example below."
   ]
  },
  {
   "cell_type": "code",
   "execution_count": null,
   "metadata": {},
   "outputs": [],
   "source": [
    "# View modality contributions in anomalies\n",
    "print(\"Anomaly contributions example:\")\n",
    "print(anomalies[['lat', 'lon', 'confidence', 'modality_contributions']].head())\n",
    "\n",
    "# Custom fusion (advanced: manual joint inversion)\n",
    "from gam.modeling.fusion import FusionInverter\n",
    "models = results['models']  # Dict of per-modality models\n",
    "fusion = FusionInverter(joint_weight=config['modeling']['priors']['joint_weight'])\n",
    "custom_fused = fusion.fuse(list(models.values()), priors=config['modeling']['priors'])\n",
    "print(\"Custom fused model shape:\", custom_fused['data'].shape)\n",
    "\n",
    "# Detect on custom fused\n",
    "from gam.modeling.anomaly_detection import AnomalyDetector\n",
    "detector = AnomalyDetector(threshold=config['modeling']['threshold'])\n",
    "custom_anomalies = detector.detect(custom_fused)\n",
    "print(f\"Custom detection: {len(custom_anomalies)} anomalies\")"
   ]
  },
  {
   "cell_type": "markdown",
   "metadata": {},
   "source": [
    "## Step 4: Advanced Visualization Techniques\n",
    "\n",
    "Generate 3D volume and interactive map."
   ]
  },
  {
   "cell_type": "code",
   "execution_count": null,
   "metadata": {},
   "outputs": [],
   "source": [
    "# 3D visualization (VTK export for ParaView)\n",
    "viz_paths = generate_visualization(\n",
    "    custom_anomalies,\n",
    "    type=\"3d\",\n",
    "    output_dir=config[\"core\"][\"output_dir\"],\n",
    "    config=config['visualization']\n",
    ")\n",
    "\n",
    "# Interactive 2D with contributions overlay\n",
    "interactive_paths = generate_visualization(\n",
    "    anomalies,\n",
    "    type=\"interactive\",\n",
    "    color_by=\"modality_contributions.gravity\",  # Example overlay\n",
    "    output_dir=config[\"core\"][\"output_dir\"]\n",
    ")\n",
    "\n",
    "print(\"Advanced viz saved:\", list(viz_paths.values()))\n",
    "\n",
    "# Quick plot of fused model slice (depth=0)\n",
    "if 'depth' in fused_model.coords:\n",
    "    slice_0 = fused_model.sel(depth=0, method='nearest')\n",
    "    slice_0['data'].plot(cmap='plasma', figsize=(10, 8))\n",
    "    plt.title(\"Fused Model Surface Slice\")\n",
    "    plt.show()"
   ]
  },
  {
   "cell_type": "markdown",
   "metadata": {},
   "source": [
    "## Step 5: Custom Processing Workflows\n",
    "\n",
    "Example: Custom workflow with post-fusion filtering."
   ]
  },
  {
   "cell_type": "code",
   "execution_count": null,
   "metadata": {},
   "outputs": [],
   "source": [
    "# Custom workflow: Fuse, filter by depth, re-visualize\n",
    "def custom_workflow(bbox, modalities, config):\n",
    "    # Run standard pipeline\n",
    "    results = run_pipeline(bbox=bbox, modalities=modalities, config=config)\n",
    "    \n",
    "    # Custom: Filter anomalies >100m depth (subsurface)\n",
    "    subsurface = results['anomalies'][results['anomalies']['depth'] < -100]\n",
    "    \n",
    "    # Re-run viz on filtered\n",
    "    filtered_viz = generate_visualization(\n",
    "        subsurface,\n",
    "        type=\"3d\",\n",
    "        output_dir=f\"{config['core']['output_dir']}/filtered\"\n",
    "    )\n",
    "    \n",
    "    return subsurface, filtered_viz\n",
    "\n",
    "# Execute custom\n",
    "subsurface_anoms, filtered_paths = custom_workflow(bbox, modalities, config)\n",
    "print(f\"Subsurface anomalies: {len(subsurface_anoms)}\")\n",
    "print(\"Filtered viz:\", filtered_paths)\n",
    "\n",
    "# Interpretation: Fusion reduces noise; gravity/seismic combo highlights voids better than single modality."
   ]
  },
  {
   "cell_type": "markdown",
   "metadata": {},
   "source": [
    "## Next Steps\n",
    "\n",
    "- Explore global processing in [03 Global Processing](03_global_processing.ipynb).\n",
    "- Tune priors for your use case (e.g., higher joint_weight for balanced fusion).\n",
    "- Integrate with GIS: Load CSV/VTK in QGIS/ParaView."
   ]
  }
 ],
 "metadata": {
  "kernelspec": {
   "display_name": "Python 3",
   "language": "python",
   "name": "python3"
  },
  "language_info": {
   "codemirror_mode": {
    "name": "ipython",
    "version": 3
   },
   "file_extension": ".py",
   "mimetype": "text/x-python",
   "name": "python",
   "nbconvert_exporter": "python",
   "pygments_lexer": "ipython3",
   "version": "3.12.0"
  }
 },
 "nbformat": 4,
 "nbformat_minor": 4
}