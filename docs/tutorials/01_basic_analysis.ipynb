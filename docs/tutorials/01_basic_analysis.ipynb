{
 "cells": [
  {
   "cell_type": "markdown",
   "metadata": {},
   "source": [
    "# 01 Basic Analysis with GeoAnomalyMapper (GAM)\n",
    "\n",
    "This notebook provides a step-by-step introduction to using GAM for subsurface anomaly detection. We'll analyze the Giza Pyramids region using gravity and seismic data.\n",
    "\n",
    "**Objectives**:\n",
    "- Import GAM and set up the environment.\n",
    "- Load sample configuration.\n",
    "- Run a basic pipeline.\n",
    "- Visualize and interpret results.\n",
    "- Export outputs.\n",
    "\n",
    "**Prerequisites**: GAM installed with `[geophysics,visualization]` extras. Run in Jupyter with Python 3.10+."
   ]
  },
  {
   "cell_type": "code",
   "execution_count": null,
   "metadata": {},
   "outputs": [],
   "source": [
    "# Install if needed (run once)\n",
    "# !pip install geoanomalymapper[geophysics,visualization] jupyter\n",
    "\n",
    "# Imports\n",
    "import yaml\n",
    "import pandas as pd\n",
    "import matplotlib.pyplot as plt\n",
    "from gam.core.pipeline import run_pipeline\n",
    "from gam.visualization.manager import generate_visualization\n",
    "\n",
    "# Verify GAM\n",
    "import gam\n",
    "print(f\"GAM version: {gam.__version__}\")"
   ]
  },
  {
   "cell_type": "markdown",
   "metadata": {},
   "source": [
    "## Step 1: Set Up Environment and Configuration\n",
    "\n",
    "Define the bounding box for Giza (small region for quick run) and load config."
   ]
  },
  {
   "cell_type": "code",
   "execution_count": null,
   "metadata": {},
   "outputs": [],
   "source": [
    "# Giza bbox: approx Great Pyramid area\n",
    "bbox = (29.95, 30.05, 31.10, 31.20)  # min_lat, max_lat, min_lon, max_lon\n",
    "modalities = [\"gravity\", \"seismic\"]  # Start simple\n",
    "\n",
    "# Basic config (expand as needed)\n",
    "config = {\n",
    "    \"data\": {\n",
    "        \"bbox\": bbox,\n",
    "        \"modalities\": modalities,\n",
    "        \"cache_dir\": \"../data/cache\"\n",
    "    },\n",
    "    \"preprocessing\": {\n",
    "        \"grid_res\": 0.01  # Fine grid for local\n",
    "    },\n",
    "    \"modeling\": {\n",
    "        \"threshold\": 2.0\n",
    "    },\n",
    "    \"visualization\": {\n",
    "        \"map_type\": \"2d\",\n",
    "        \"export_formats\": [\"png\", \"csv\"]\n",
    "    },\n",
    "    \"core\": {\n",
    "        \"output_dir\": \"../results/giza_basic\"\n",
    "    }\n",
    "}\n",
    "\n",
    "# Save config for reuse\n",
    "with open(\"giza_basic_config.yaml\", \"w\") as f:\n",
    "    yaml.dump(config, f)\n",
    "print(\"Config saved to giza_basic_config.yaml\")"
   ]
  },
  {
   "cell_type": "markdown",
   "metadata": {},
   "source": [
    "## Step 2: Run the Pipeline\n",
    "\n",
    "Execute ingestion, preprocessing, modeling, and detection. This fetches public data and processes it."
   ]
  },
  {
   "cell_type": "code",
   "execution_count": null,
   "metadata": {},
   "outputs": [],
   "source": [
    "# Run pipeline (may take 5-10 min first time due to data fetch)\n",
    "results = run_pipeline(\n",
    "    bbox=bbox,\n",
    "    modalities=modalities,\n",
    "    config=config,\n",
    "    output_dir=config[\"core\"][\"output_dir\"]\n",
    ")\n",
    "\n",
    "# Inspect results\n",
    "print(\"Pipeline completed!\")\n",
    "print(f\"Detected {len(results['anomalies'])} anomalies\")\n",
    "print(results['anomalies'].head())"
   ]
  },
  {
   "cell_type": "markdown",
   "metadata": {},
   "source": [
    "## Step 3: Visualize Results\n",
    "\n",
    "Generate a 2D map of anomalies. High-confidence spots may indicate subsurface features."
   ]
  },
  {
   "cell_type": "code",
   "execution_count": null,
   "metadata": {},
   "outputs": [],
   "source": [
    "# Generate visualization\n",
    "anomalies = results['anomalies']\n",
    "viz_paths = generate_visualization(\n",
    "    anomalies,\n",
    "    type=\"2d\",\n",
    "    color_scheme=\"viridis\",\n",
    "    output_dir=config[\"core\"][\"output_dir\"]\n",
    ")\n",
    "\n",
    "# Display map (if PNG)\n",
    "import matplotlib.image as mpimg\n",
    "img = mpimg.imread(viz_paths['png'])\n",
    "plt.figure(figsize=(10, 8))\n",
    "plt.imshow(img)\n",
    "plt.axis('off')\n",
    "plt.title(\"Giza Anomaly Map (Viridis Colormap)\")\n",
    "plt.show()\n",
    "\n",
    "print(\"Visualization saved to:\", viz_paths)"
   ]
  },
  {
   "cell_type": "markdown",
   "metadata": {},
   "source": [
    "## Step 4: Interpret Outputs\n",
    "\n",
    "Examine anomalies: Focus on high-confidence (>0.7) near known sites (e.g., Great Pyramid at ~29.979 N, 31.134 E)."
   ]
  },
  {
   "cell_type": "code",
   "execution_count": null,
   "metadata": {},
   "outputs": [],
   "source": [
    "# Filter high-confidence anomalies\n",
    "high_conf = anomalies[anomalies['confidence'] > 0.7]\n",
    "print(\"High-confidence anomalies:\")\n",
    "print(high_conf[['lat', 'lon', 'depth', 'confidence', 'anomaly_type']])\n",
    "\n",
    "# Plot locations\n",
    "plt.figure(figsize=(8, 6))\n",
    "plt.scatter(high_conf['lon'], high_conf['lat'], c=high_conf['confidence'], s=50, cmap='Reds')\n",
    "plt.xlabel('Longitude')\n",
    "plt.ylabel('Latitude')\n",
    "plt.title('High-Confidence Anomalies in Giza')\n",
    "plt.colorbar(label='Confidence')\n",
    "plt.grid(True, alpha=0.3)\n",
    "plt.show()\n",
    "\n",
    "# Interpretation: Depths < -100m may indicate voids; cross-check with literature."
   ]
  },
  {
   "cell_type": "markdown",
   "metadata": {},
   "source": [
    "## Step 5: Export Results\n",
    "\n",
    "Save for further analysis in GIS or reports."
   ]
  },
  {
   "cell_type": "code",
   "execution_count": null,
   "metadata": {},
   "outputs": [],
   "source": [
    "# Export anomalies to CSV (already in results, but explicit)\n",
    "anomalies.to_csv(config[\"core\"][\"output_dir\"] + \"/anomalies_detailed.csv\", index=False)\n",
    "\n",
    "# Export model (if needed)\n",
    "if 'fused_model' in results:\n",
    "    results['fused_model'].to_netcdf(config[\"core\"][\"output_dir\"] + \"/fused_model.nc\")\n",
    "\n",
    "print(\"Exports complete. Check output_dir for files.\")\n",
    "\n",
    "# Next: Try adding 'insar' modality or larger bbox in 02_multi_modality_fusion.ipynb"
   ]
  }
 ],
 "metadata": {
  "kernelspec": {
   "display_name": "Python 3",
   "language": "python",
   "name": "python3"
  },
  "language_info": {
   "codemirror_mode": {
    "name": "ipython",
    "version": 3
   },
   "file_extension": ".py",
   "mimetype": "text/x-python",
   "name": "python",
   "nbconvert_exporter": "python",
   "pygments_lexer": "ipython3",
   "version": "3.12.0"
  }
 },
 "nbformat": 4,
 "nbformat_minor": 4
}